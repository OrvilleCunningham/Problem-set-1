{
  "nbformat": 4,
  "nbformat_minor": 0,
  "metadata": {
    "colab": {
      "provenance": [],
      "authorship_tag": "ABX9TyON+Zd13rmg1oA2kNrHpIGp",
      "include_colab_link": true
    },
    "kernelspec": {
      "name": "python3",
      "display_name": "Python 3"
    },
    "language_info": {
      "name": "python"
    }
  },
  "cells": [
    {
      "cell_type": "markdown",
      "metadata": {
        "id": "view-in-github",
        "colab_type": "text"
      },
      "source": [
        "<a href=\"https://colab.research.google.com/github/OrvilleCunningham/Problem-set-1/blob/main/Problem_set_1.ipynb\" target=\"_parent\"><img src=\"https://colab.research.google.com/assets/colab-badge.svg\" alt=\"Open In Colab\"/></a>"
      ]
    },
    {
      "cell_type": "code",
      "execution_count": 6,
      "metadata": {
        "id": "7aDbtPcSor6u"
      },
      "outputs": [],
      "source": [
        "\"\"\"\n",
        "CMPS 6610  Assignment 1.\n",
        "See assignment-01.pdf for details.\n",
        "\"\"\"\n",
        "# no imports needed.\n",
        "\n",
        "def foo(x):\n",
        "    if x <= 1:\n",
        "      return x \n",
        "    else:\n",
        "      ra,rb = foo (x-1), foo (x-2)\n",
        "      return ra + rb\n",
        "\n",
        "    \n",
        "\n",
        "def longest_run(mylist, key):\n",
        "    count = 0\n",
        "    n = len (mylist)\n",
        "    for i in range(n):\n",
        "      if mylist [i] == key:\n",
        "        val = 1 \n",
        "        for j in range (i +1,n):\n",
        "          if (mylist[j]==key):\n",
        "            val +=1\n",
        "          else:\n",
        "            break\n",
        "        if val> count:\n",
        "          count = val\n",
        "    return count \n",
        "\n",
        "     \n",
        "\n",
        "\n",
        "class Result:\n",
        "    \"\"\" done \"\"\"\n",
        "    def __init__(self, left_size, right_size, longest_size, is_entire_range):\n",
        "        self.left_size = left_size              # the length of the longest run on left side of input\n",
        "                                                # eg, with a key of 12, [12 12 3] has left_size of 2 \n",
        "        self.right_size = right_size            # length of longest run on right side of input\n",
        "                                                # eg, key 12, [3 12 12] has right_size of 2\n",
        "        self.longest_size = longest_size        # length of longest run in input\n",
        "                                                # eg, [12 12 4 12 12 12]: longest_size is 3\n",
        "        self.is_entire_range = is_entire_range  # True if the entire input matches the key\n",
        "        \n",
        "    def __repr__(self):\n",
        "        return('longest_size=%d left_size=%d right_size=%d is_entire_range=%s' %\n",
        "              (self.longest_size, self.left_size, self.right_size, self.is_entire_range))\n",
        "    \n",
        "    \n",
        "def longest_run_recursive(mylist, key):\n",
        "    max_length = 0\n",
        "    current_length = 0 \n",
        "    for i in range(len(myarrary)):\n",
        "        current_length += 1\n",
        "    else:\n",
        "        max_length = max(max_length, current_length)\n",
        "        current_length = 0\n",
        "    return max(max_length, current_length)\n",
        "\n",
        "## Feel free to add your own tests here.\n",
        "def test_longest_run():\n",
        "    assert longest_run([2,12,12,18,12,12,12,0,12,1], 12) == 3\n"
      ]
    },
    {
      "cell_type": "code",
      "source": [
        "test_longest_run()"
      ],
      "metadata": {
        "id": "YvZe7oDs47zM"
      },
      "execution_count": null,
      "outputs": []
    },
    {
      "cell_type": "code",
      "source": [
        "for i in range (20):\n",
        "  print (f\"{i} = {foo(i)}\")"
      ],
      "metadata": {
        "colab": {
          "base_uri": "https://localhost:8080/"
        },
        "id": "nksj6AZ20cSx",
        "outputId": "8ae27f12-d1aa-4ea8-a8c8-505bf4607458"
      },
      "execution_count": null,
      "outputs": [
        {
          "output_type": "stream",
          "name": "stdout",
          "text": [
            "0 = 0\n",
            "1 = 1\n",
            "2 = 1\n",
            "3 = 2\n",
            "4 = 3\n",
            "5 = 5\n",
            "6 = 8\n",
            "7 = 13\n",
            "8 = 21\n",
            "9 = 34\n",
            "10 = 55\n",
            "11 = 89\n",
            "12 = 144\n",
            "13 = 233\n",
            "14 = 377\n",
            "15 = 610\n",
            "16 = 987\n",
            "17 = 1597\n",
            "18 = 2584\n",
            "19 = 4181\n"
          ]
        }
      ]
    }
  ]
}